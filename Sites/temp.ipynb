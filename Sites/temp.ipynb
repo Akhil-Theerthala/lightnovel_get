{
 "cells": [
  {
   "cell_type": "code",
   "execution_count": null,
   "metadata": {},
   "outputs": [
    {
     "ename": "",
     "evalue": "",
     "output_type": "error",
     "traceback": [
      "\u001b[1;31mRunning cells with 'Python 3.10.4 ('lnpub')' requires ipykernel package.\n",
      "\u001b[1;31mRun the following command to install 'ipykernel' into the Python environment. \n",
      "\u001b[1;31mCommand: 'conda install -n lnpub ipykernel --update-deps --force-reinstall'"
     ]
    }
   ],
   "source": [
    "from bs4 import BeautifulSoup\n",
    "from lxml import etree\n",
    "import requests\n",
    "\n",
    "\n",
    "URL = \"https://en.wikipedia.org/wiki/Nike,_Inc.\"\n",
    "\n",
    "HEADERS = ({'User-Agent':\n",
    "\t\t\t'Mozilla/5.0 (X11; Linux x86_64) AppleWebKit/537.36 \\\n",
    "\t\t\t(KHTML, like Gecko) Chrome/44.0.2403.157 Safari/537.36',\\\n",
    "\t\t\t'Accept-Language': 'en-US, en;q=0.5'})\n",
    "\n",
    "webpage = requests.get(URL, headers=HEADERS)\n",
    "soup = BeautifulSoup(webpage.content, \"html.parser\")\n",
    "dom = etree.HTML(str(soup))\n",
    "print(dom.xpath('//*[@id=\"firstHeading\"]')[0].text)"
   ]
  },
  {
   "cell_type": "code",
   "execution_count": null,
   "metadata": {},
   "outputs": [],
   "source": []
  }
 ],
 "metadata": {
  "kernelspec": {
   "display_name": "Python 3.10.4 ('lnpub')",
   "language": "python",
   "name": "python3"
  },
  "language_info": {
   "name": "python",
   "version": "3.10.4"
  },
  "orig_nbformat": 4,
  "vscode": {
   "interpreter": {
    "hash": "f6aef5f4aee695bec3765a5b103f4a8a2447de8baf542c9494ddd7fb748dac18"
   }
  }
 },
 "nbformat": 4,
 "nbformat_minor": 2
}
